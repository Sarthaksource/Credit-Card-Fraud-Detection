{
  "cells": [
    {
      "cell_type": "code",
      "execution_count": 1,
      "id": "685f19c9-ea1a-4e38-9c3b-73218a96dc40",
      "metadata": {
        "id": "685f19c9-ea1a-4e38-9c3b-73218a96dc40"
      },
      "outputs": [],
      "source": [
        "import pandas as pd\n",
        "import numpy as np\n",
        "import matplotlib.pyplot as plt\n",
        "import seaborn as sns\n",
        "\n",
        "from sklearn.model_selection import train_test_split\n",
        "from sklearn.preprocessing import StandardScaler\n",
        "from sklearn.linear_model import LogisticRegression\n",
        "from sklearn.ensemble import RandomForestClassifier, VotingClassifier\n",
        "from xgboost import XGBClassifier\n",
        "from sklearn.metrics import accuracy_score, precision_score, recall_score, f1_score, roc_auc_score, confusion_matrix\n",
        "\n",
        "from imblearn.over_sampling import RandomOverSampler\n",
        "\n",
        "import pickle\n",
        "\n",
        "plt.style.use('seaborn-v0_8')"
      ]
    },
    {
      "cell_type": "code",
      "source": [
        "!pip install kagglehub --quiet\n",
        "\n",
        "import kagglehub\n",
        "import shutil\n",
        "import os\n",
        "\n",
        "# Download dataset (returns local download path)\n",
        "path = kagglehub.dataset_download(\"mlg-ulb/creditcardfraud\")\n",
        "print(\"Dataset downloaded to:\", path)\n",
        "\n",
        "target_path = \"/content/creditcardfraud\"\n",
        "shutil.copytree(path, target_path, dirs_exist_ok=True)\n",
        "\n",
        "print(\"Files copied to:\", target_path)\n",
        "print(\"Contents:\", os.listdir(target_path))\n"
      ],
      "metadata": {
        "colab": {
          "base_uri": "https://localhost:8080/"
        },
        "id": "mEqmkhWc-BpI",
        "outputId": "63054809-0f8e-47cc-cae7-078ad93d4d62"
      },
      "id": "mEqmkhWc-BpI",
      "execution_count": 7,
      "outputs": [
        {
          "output_type": "stream",
          "name": "stdout",
          "text": [
            "Using Colab cache for faster access to the 'creditcardfraud' dataset.\n",
            "Dataset downloaded to: /kaggle/input/creditcardfraud\n",
            "Files copied to: /content/creditcardfraud\n",
            "Contents: ['creditcard.csv']\n"
          ]
        }
      ]
    },
    {
      "cell_type": "code",
      "source": [
        "df = pd.read_csv('creditcard.csv')\n",
        "\n",
        "print(\"First 5 rows of the dataset:\")\n",
        "print(df.head())\n",
        "print(\"\\n\" + \"=\"*50 + \"\\n\")\n",
        "\n",
        "print(f\"Dataset Shape: {df.shape[0]} rows and {df.shape[1]} columns\")\n",
        "print(\"\\n\" + \"=\"*50 + \"\\n\")\n",
        "\n",
        "print(f\"Total Missing Values: {df.isnull().sum().sum()}\")\n",
        "print(\"\\n\" + \"=\"*50 + \"\\n\")\n",
        "\n",
        "\n",
        "class_counts = df['Class'].value_counts()\n",
        "fraud_percentage = (class_counts[1] / len(df)) * 100\n",
        "\n",
        "print(\"Class Distribution:\")\n",
        "print(f\"Normal Transactions (0): {class_counts[0]}\")\n",
        "print(f\"Fraud Transactions (1):  {class_counts[1]}\")\n",
        "print(f\"Fraud Percentage: {fraud_percentage:.2f}%\")\n",
        "\n",
        "plt.figure(figsize=(8, 6))\n",
        "sns.countplot(data=df, x='Class', palette=['lightblue', 'red'])\n",
        "plt.title('Transaction Class Distribution (0: Normal, 1: Fraud)')\n",
        "plt.show()"
      ],
      "metadata": {
        "id": "zrSRvA4DFBhL"
      },
      "id": "zrSRvA4DFBhL",
      "execution_count": null,
      "outputs": []
    },
    {
      "cell_type": "code",
      "execution_count": 9,
      "id": "908bf1bd-5610-420e-90c2-a089ea058353",
      "metadata": {
        "colab": {
          "base_uri": "https://localhost:8080/"
        },
        "id": "908bf1bd-5610-420e-90c2-a089ea058353",
        "outputId": "17cdf11e-a901-482e-ce8b-cf8ebe79f52f"
      },
      "outputs": [
        {
          "output_type": "stream",
          "name": "stdout",
          "text": [
            "Original training set class counts: [227451    394]\n",
            "Resampled training set class counts: [227451 227451]\n"
          ]
        }
      ],
      "source": [
        "X = df.drop('Class', axis=1)\n",
        "y = df['Class']\n",
        "\n",
        "X_train, X_test, y_train, y_test = train_test_split(X, y, test_size=0.2, random_state=42, stratify=y)\n",
        "\n",
        "print(f\"Original training set class counts: {np.bincount(y_train)}\")\n",
        "\n",
        "ros = RandomOverSampler(random_state=42)\n",
        "X_train_resampled, y_train_resampled = ros.fit_resample(X_train, y_train)\n",
        "\n",
        "print(f\"Resampled training set class counts: {np.bincount(y_train_resampled)}\")\n",
        "\n",
        "\n",
        "scaler = StandardScaler()\n",
        "X_train_scaled = scaler.fit_transform(X_train_resampled)\n",
        "X_test_scaled = scaler.transform(X_test)"
      ]
    },
    {
      "cell_type": "code",
      "execution_count": 10,
      "id": "141efb98-451d-4424-b21e-cd1c15afbc02",
      "metadata": {
        "colab": {
          "base_uri": "https://localhost:8080/"
        },
        "id": "141efb98-451d-4424-b21e-cd1c15afbc02",
        "outputId": "ef02d0a8-04c8-4f37-b2dd-b7eee89df9d4"
      },
      "outputs": [
        {
          "output_type": "stream",
          "name": "stdout",
          "text": [
            "Training and Evaluating Models...\n",
            "\n",
            "--- Training Logistic Regression ---\n",
            "Logistic Regression - Accuracy: 0.9756, AUC: 0.9720\n",
            "\n",
            "--- Training Random Forest ---\n",
            "Random Forest - Accuracy: 0.9995, AUC: 0.9628\n",
            "\n",
            "--- Training XGBoost ---\n",
            "XGBoost - Accuracy: 0.9996, AUC: 0.9768\n",
            "\n"
          ]
        }
      ],
      "source": [
        "models = {\n",
        "    'Logistic Regression': LogisticRegression(random_state=42, max_iter=1000),\n",
        "    'Random Forest': RandomForestClassifier(n_estimators=100, random_state=42),\n",
        "    'XGBoost': XGBClassifier(random_state=42, eval_metric='logloss', use_label_encoder=False)\n",
        "}\n",
        "\n",
        "model_results = {}\n",
        "\n",
        "print(\"Training and Evaluating Models...\\n\")\n",
        "\n",
        "for name, model in models.items():\n",
        "    print(f\"--- Training {name} ---\")\n",
        "\n",
        "    model.fit(X_train_scaled, y_train_resampled)\n",
        "\n",
        "    y_pred = model.predict(X_test_scaled)\n",
        "    y_pred_proba = model.predict_proba(X_test_scaled)[:, 1]\n",
        "\n",
        "    accuracy = accuracy_score(y_test, y_pred)\n",
        "    auc = roc_auc_score(y_test, y_pred_proba)\n",
        "\n",
        "    model_results[name] = {\n",
        "        'accuracy': accuracy,\n",
        "        'precision': precision_score(y_test, y_pred),\n",
        "        'recall': recall_score(y_test, y_pred),\n",
        "        'f1_score': f1_score(y_test, y_pred),\n",
        "        'auc': auc,\n",
        "    }\n",
        "\n",
        "    print(f\"{name} - Accuracy: {accuracy:.4f}, AUC: {auc:.4f}\\n\")"
      ]
    },
    {
      "cell_type": "code",
      "execution_count": 11,
      "id": "200bf8f3-68bd-4520-95b2-7ddb4a9a4c0b",
      "metadata": {
        "colab": {
          "base_uri": "https://localhost:8080/"
        },
        "id": "200bf8f3-68bd-4520-95b2-7ddb4a9a4c0b",
        "outputId": "e670dfb5-eccd-4c45-cf07-e2d757814ce5"
      },
      "outputs": [
        {
          "output_type": "stream",
          "name": "stdout",
          "text": [
            "--- Training Hybrid Model (Random Forest + XGBoost) ---\n",
            "Hybrid Model - Accuracy: 0.9995, AUC: 0.9776\n",
            "\n"
          ]
        }
      ],
      "source": [
        "print(\"--- Training Hybrid Model (Random Forest + XGBoost) ---\")\n",
        "hybrid_model = VotingClassifier(\n",
        "    estimators=[\n",
        "        ('rf', RandomForestClassifier(n_estimators=100, random_state=42)),\n",
        "        ('xgb', XGBClassifier(random_state=42, eval_metric='logloss', use_label_encoder=False))\n",
        "    ],\n",
        "    voting='soft'\n",
        ")\n",
        "\n",
        "hybrid_model.fit(X_train_scaled, y_train_resampled)\n",
        "\n",
        "y_pred_hybrid = hybrid_model.predict(X_test_scaled)\n",
        "y_pred_proba_hybrid = hybrid_model.predict_proba(X_test_scaled)[:, 1]\n",
        "\n",
        "accuracy_hybrid = accuracy_score(y_test, y_pred_hybrid)\n",
        "auc_hybrid = roc_auc_score(y_test, y_pred_proba_hybrid)\n",
        "\n",
        "model_results['Hybrid (RF + XGB)'] = {\n",
        "    'accuracy': accuracy_hybrid,\n",
        "    'precision': precision_score(y_test, y_pred_hybrid),\n",
        "    'recall': recall_score(y_test, y_pred_hybrid),\n",
        "    'f1_score': f1_score(y_test, y_pred_hybrid),\n",
        "    'auc': auc_hybrid\n",
        "}\n",
        "\n",
        "print(f\"Hybrid Model - Accuracy: {accuracy_hybrid:.4f}, AUC: {auc_hybrid:.4f}\\n\")"
      ]
    },
    {
      "cell_type": "code",
      "execution_count": 12,
      "id": "db0b402d-6581-4805-8cbe-b8b3d1c5f8a4",
      "metadata": {
        "colab": {
          "base_uri": "https://localhost:8080/"
        },
        "id": "db0b402d-6581-4805-8cbe-b8b3d1c5f8a4",
        "outputId": "ec7fa030-15bf-44c1-fead-854b9a992c31"
      },
      "outputs": [
        {
          "output_type": "stream",
          "name": "stdout",
          "text": [
            "============================================================\n",
            "COMPREHENSIVE MODEL PERFORMANCE REPORT\n",
            "============================================================\n",
            "\n",
            "----- LOGISTIC REGRESSION -----\n",
            "  Accuracy:  0.9756  (97.56%)\n",
            "  Precision: 0.0611  (6.11%)\n",
            "  Recall:    0.9184  (91.84%)\n",
            "  F1-Score:  0.1146  (11.46%)\n",
            "  AUC Score: 0.9720  (97.20%)\n",
            "\n",
            "----- RANDOM FOREST -----\n",
            "  Accuracy:  0.9995  (99.95%)\n",
            "  Precision: 0.9494  (94.94%)\n",
            "  Recall:    0.7653  (76.53%)\n",
            "  F1-Score:  0.8475  (84.75%)\n",
            "  AUC Score: 0.9628  (96.28%)\n",
            "\n",
            "----- XGBOOST -----\n",
            "  Accuracy:  0.9996  (99.96%)\n",
            "  Precision: 0.9022  (90.22%)\n",
            "  Recall:    0.8469  (84.69%)\n",
            "  F1-Score:  0.8737  (87.37%)\n",
            "  AUC Score: 0.9768  (97.68%)\n",
            "\n",
            "----- HYBRID (RF + XGB) -----\n",
            "  Accuracy:  0.9995  (99.95%)\n",
            "  Precision: 0.9000  (90.00%)\n",
            "  Recall:    0.8265  (82.65%)\n",
            "  F1-Score:  0.8617  (86.17%)\n",
            "  AUC Score: 0.9776  (97.76%)\n",
            "\n",
            "============================================================\n",
            "Report generated successfully.\n"
          ]
        }
      ],
      "source": [
        "print(\"=\" * 60)\n",
        "print(\"COMPREHENSIVE MODEL PERFORMANCE REPORT\")\n",
        "print(\"=\" * 60)\n",
        "\n",
        "for model_name, results in model_results.items():\n",
        "    print(f\"\\n----- {model_name.upper()} -----\")\n",
        "    print(f\"  Accuracy:  {results['accuracy']:.4f}  ({results['accuracy']*100:.2f}%)\")\n",
        "    print(f\"  Precision: {results['precision']:.4f}  ({results['precision']*100:.2f}%)\")\n",
        "    print(f\"  Recall:    {results['recall']:.4f}  ({results['recall']*100:.2f}%)\")\n",
        "    print(f\"  F1-Score:  {results['f1_score']:.4f}  ({results['f1_score']*100:.2f}%)\")\n",
        "    print(f\"  AUC Score: {results['auc']:.4f}  ({results['auc']*100:.2f}%)\")\n",
        "\n",
        "print(\"\\n\" + \"=\" * 60)\n",
        "print(\"Report generated successfully.\")"
      ]
    },
    {
      "cell_type": "code",
      "execution_count": 13,
      "id": "596f2490-9bd5-45d4-ba0d-90155033ca6a",
      "metadata": {
        "colab": {
          "base_uri": "https://localhost:8080/"
        },
        "id": "596f2490-9bd5-45d4-ba0d-90155033ca6a",
        "outputId": "39ada32b-dba0-455c-ebf2-bec31f985073"
      },
      "outputs": [
        {
          "output_type": "stream",
          "name": "stdout",
          "text": [
            "Best model ('model.pkl') and scaler ('scaler.pkl') have been saved successfully!\n"
          ]
        }
      ],
      "source": [
        "with open('model.pkl', 'wb') as f:\n",
        "    pickle.dump(hybrid_model, f)\n",
        "\n",
        "with open('scaler.pkl', 'wb') as f:\n",
        "    pickle.dump(scaler, f)\n",
        "\n",
        "print(\"Best model ('model.pkl') and scaler ('scaler.pkl') have been saved successfully!\")"
      ]
    }
  ],
  "metadata": {
    "kernelspec": {
      "display_name": "Python 3 (ipykernel)",
      "language": "python",
      "name": "python3"
    },
    "language_info": {
      "codemirror_mode": {
        "name": "ipython",
        "version": 3
      },
      "file_extension": ".py",
      "mimetype": "text/x-python",
      "name": "python",
      "nbconvert_exporter": "python",
      "pygments_lexer": "ipython3",
      "version": "3.12.7"
    },
    "colab": {
      "provenance": []
    }
  },
  "nbformat": 4,
  "nbformat_minor": 5
}